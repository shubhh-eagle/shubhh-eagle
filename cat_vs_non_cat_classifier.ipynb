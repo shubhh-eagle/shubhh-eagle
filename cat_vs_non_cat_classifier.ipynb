{
  "nbformat": 4,
  "nbformat_minor": 0,
  "metadata": {
    "anaconda-cloud": {},
    "coursera": {
      "course_slug": "neural-networks-deep-learning",
      "graded_item_id": "XaIWT",
      "launcher_item_id": "zAgPl"
    },
    "kernelspec": {
      "display_name": "Python [default]",
      "language": "python",
      "name": "python3"
    },
    "language_info": {
      "codemirror_mode": {
        "name": "ipython",
        "version": 3
      },
      "file_extension": ".py",
      "mimetype": "text/x-python",
      "name": "python",
      "nbconvert_exporter": "python",
      "pygments_lexer": "ipython3",
      "version": "3.5.2"
    },
    "colab": {
      "name": "cat vs non-cat classifier.ipynb",
      "provenance": [],
      "collapsed_sections": [
        "GlSqomxtvrdw"
      ],
      "include_colab_link": true
    }
  },
  "cells": [
    {
      "cell_type": "markdown",
      "metadata": {
        "id": "view-in-github",
        "colab_type": "text"
      },
      "source": [
        "<a href=\"https://colab.research.google.com/github/shubhh-eagle/shubhh-eagle/blob/main/cat_vs_non_cat_classifier.ipynb\" target=\"_parent\"><img src=\"https://colab.research.google.com/assets/colab-badge.svg\" alt=\"Open In Colab\"/></a>"
      ]
    },
    {
      "cell_type": "markdown",
      "metadata": {
        "id": "FX36ehoOvrdE"
      },
      "source": [
        "# Cat or no cat?\n",
        "\n",
        "This notebook shows two simple image-recognition algorithms that can correctly classify pictures as cat or non-cat.  \n",
        "The first is a classic logistic regression while the second - more accurate - is a deep neural network."
      ]
    },
    {
      "cell_type": "markdown",
      "metadata": {
        "collapsed": true,
        "id": "eKJFDDygvrdZ"
      },
      "source": [
        "## 1 - Overview of the data set ##\n",
        "\n",
        "The dataset is taken from Andrew Ng's course on Coursera *Introduction to Neural Networks*.  \n",
        "The dataset (\"data.h5\") contains:\n",
        "* a training set of m_train images labeled as cat (y=1) or non-cat (y=0)\n",
        "* a test set of m_test images labeled as cat or non-cat\n",
        "* each image is of shape (num_px, num_px, 3) where 3 is for the 3 channels (RGB). Thus, each image is square (height = num_px) and (width = num_px).\n",
        "\n",
        "Let's get more familiar with the dataset."
      ]
    },
    {
      "cell_type": "code",
      "metadata": {
        "colab": {
          "base_uri": "https://localhost:8080/"
        },
        "id": "5JLTAnrx9cXC",
        "outputId": "03a00150-b7a0-4a8b-8bee-11bb1c10cab7"
      },
      "source": [
        "from google.colab import drive\n",
        "drive.mount('/content/drive/')"
      ],
      "execution_count": null,
      "outputs": [
        {
          "output_type": "stream",
          "text": [
            "Mounted at /content/drive/\n"
          ],
          "name": "stdout"
        }
      ]
    },
    {
      "cell_type": "code",
      "metadata": {
        "id": "sdYElLyivrdb"
      },
      "source": [
        "import numpy as np\n",
        "import h5py\n",
        "    \n",
        "    # Loading the data (cat/non-cat)\n",
        "train_dataset = h5py.File('/content/drive/MyDrive/Colab Notebooks/train_catvnoncat.h5', \"r\")\n",
        "train_set_x_orig = np.array(train_dataset[\"train_set_x\"][:]) # train set features\n",
        "train_set_y_orig = np.array(train_dataset[\"train_set_y\"][:]) # train set labels\n",
        "\n",
        "test_dataset = h5py.File('/content/drive/MyDrive/Colab Notebooks/test_catvnoncat.h5', \"r\")\n",
        "test_set_x_orig = np.array(test_dataset[\"test_set_x\"][:]) # test set features\n",
        "test_set_y_orig = np.array(test_dataset[\"test_set_y\"][:]) # test set labels\n",
        "\n",
        "classes = np.array(test_dataset[\"list_classes\"][:]) # the list of classes\n",
        "    \n",
        "train_set_y = train_set_y_orig.reshape((1, train_set_y_orig.shape[0]))\n",
        "test_set_y = test_set_y_orig.reshape((1, test_set_y_orig.shape[0]))"
      ],
      "execution_count": null,
      "outputs": []
    },
    {
      "cell_type": "markdown",
      "metadata": {
        "id": "eY4GWC-jvrdc"
      },
      "source": [
        "Each line of train_set_x_orig and test_set_x_orig is an array representing an image. You can visualize an example by running the following code. Feel free also to change the `index` value and re-run to see other images. "
      ]
    },
    {
      "cell_type": "code",
      "metadata": {
        "collapsed": true,
        "id": "I8qsFRmhvrdc"
      },
      "source": [
        "import matplotlib.pyplot as plt\n",
        "\n",
        "%matplotlib inline\n",
        "\n",
        "plt.rcParams['figure.figsize'] = (4.0, 4.0) # set default size of plots\n",
        "plt.rcParams['image.interpolation'] = 'nearest'\n",
        "plt.rcParams['image.cmap'] = 'gray'\n",
        "\n",
        "np.random.seed(1)"
      ],
      "execution_count": null,
      "outputs": []
    },
    {
      "cell_type": "code",
      "metadata": {
        "colab": {
          "base_uri": "https://localhost:8080/",
          "height": 285
        },
        "id": "8lAyBMW7vrdd",
        "outputId": "9149a402-a68f-4625-b23d-dce1ffc38e06"
      },
      "source": [
        "    # Example of a picture\n",
        "index = 50\n",
        "plt.imshow(train_set_x_orig[index])\n",
        "print (\"y = \" + str(train_set_y[:, index]) + \", it's a '\" + classes[np.squeeze(train_set_y[:, index])].decode(\"utf-8\") +  \"' picture.\")"
      ],
      "execution_count": null,
      "outputs": [
        {
          "output_type": "stream",
          "text": [
            "y = [1], it's a 'cat' picture.\n"
          ],
          "name": "stdout"
        },
        {
          "output_type": "display_data",
          "data": {
            "image/png": "[encoded data removed]",
            "text/plain": [
              "<Figure size 288x288 with 1 Axes>"
            ]
          },
          "metadata": {
            "tags": [],
            "needs_background": "light"
          }
        }
      ]
    },
    {
      "cell_type": "markdown",
      "metadata": {
        "id": "3oMmi7kivrdf"
      },
      "source": [
        "## 2 - Data preprocessing"
      ]
    },
    {
      "cell_type": "markdown",
      "metadata": {
        "id": "ux34virsvrdf"
      },
      "source": [
        "<font color='blue'>\n",
        "**Dataset pre-processing:**\n",
        "\n",
        "Common steps for pre-processing a new dataset are:\n",
        "* Figure out the dimensions and shapes of the problem (m_train, m_test, num_px, ...)\n",
        "* Reshape the datasets such that each example is now a vector of size (num_px \\* num_px \\* 3, 1)\n",
        "* \"Standardize\" the data"
      ]
    },
    {
      "cell_type": "markdown",
      "metadata": {
        "id": "BUU9fPqWvrdg"
      },
      "source": [
        "Many software bugs in deep learning come from having matrix/vector dimensions that don't fit. If you can keep your matrix/vector dimensions straight you will go a long way toward eliminating many bugs. "
      ]
    },
    {
      "cell_type": "code",
      "metadata": {
        "scrolled": true,
        "colab": {
          "base_uri": "https://localhost:8080/"
        },
        "id": "pUrDdJiBvrdh",
        "outputId": "f8d47acf-d17d-4c36-89ef-d1ee861b0a0b"
      },
      "source": [
        "m_train = train_set_x_orig.shape[0]\n",
        "m_test = test_set_x_orig.shape[0]\n",
        "num_px = train_set_x_orig.shape[1]\n",
        "\n",
        "print (\"Dataset dimensions:\")\n",
        "print (\"Number of training examples: m_train = \" + str(m_train))\n",
        "print (\"Number of testing examples: m_test = \" + str(m_test))\n",
        "print (\"Height/Width of each image: num_px = \" + str(num_px))\n",
        "print (\"Each image is of size: (\" + str(num_px) + \", \" + str(num_px) + \", 3)\")\n",
        "print (\"train_set_x shape: \" + str(train_set_x_orig.shape))\n",
        "print (\"train_set_y shape: \" + str(train_set_y.shape))\n",
        "print (\"test_set_x shape: \" + str(test_set_x_orig.shape))\n",
        "print (\"test_set_y shape: \" + str(test_set_y.shape))"
      ],
      "execution_count": null,
      "outputs": [
        {
          "output_type": "stream",
          "text": [
            "Dataset dimensions:\n",
            "Number of training examples: m_train = 209\n",
            "Number of testing examples: m_test = 50\n",
            "Height/Width of each image: num_px = 64\n",
            "Each image is of size: (64, 64, 3)\n",
            "train_set_x shape: (209, 64, 64, 3)\n",
            "train_set_y shape: (1, 209)\n",
            "test_set_x shape: (50, 64, 64, 3)\n",
            "test_set_y shape: (1, 50)\n"
          ],
          "name": "stdout"
        }
      ]
    },
    {
      "cell_type": "markdown",
      "metadata": {
        "id": "iWan3D9Zvrdi"
      },
      "source": [
        "For convenience, we now reshape images of shape (num_px, num_px, 3) in a numpy-array of shape (num_px $*$ num_px $*$ 3, 1). After this, our training (and test) dataset is a numpy-array where each column represents a flattened image. There should be m_train (respectively m_test) columns.\n",
        "\n",
        "\n",
        "A trick when you want to flatten a matrix X of shape (a,b,c,d) to a matrix X_flatten of shape (b$*$c$*$d, a) is to use: \n",
        "```python\n",
        "X_flatten = X.reshape(X.shape[0], -1).T      # X.T is the transpose of X\n",
        "```"
      ]
    },
    {
      "cell_type": "code",
      "metadata": {
        "colab": {
          "base_uri": "https://localhost:8080/"
        },
        "id": "w0_xzlgQvrdi",
        "outputId": "5b58060e-2550-4f13-81ad-0d02d3a0b7de"
      },
      "source": [
        "# Reshape the training and test examples\n",
        "\n",
        "train_set_x_flatten = train_set_x_orig.reshape(train_set_x_orig.shape[0], -1).T \n",
        "test_set_x_flatten = test_set_x_orig.reshape(test_set_x_orig.shape[0], -1).T \n",
        "\n",
        "print (\"train_set_x_flatten shape: \" + str(train_set_x_flatten.shape))\n",
        "print (\"train_set_y shape: \" + str(train_set_y.shape))\n",
        "print (\"test_set_x_flatten shape: \" + str(test_set_x_flatten.shape))\n",
        "print (\"test_set_y shape: \" + str(test_set_y.shape))\n",
        "print (\"sanity check after reshaping: \" + str(train_set_x_flatten[0:5,0]))"
      ],
      "execution_count": null,
      "outputs": [
        {
          "output_type": "stream",
          "text": [
            "train_set_x_flatten shape: (12288, 209)\n",
            "train_set_y shape: (1, 209)\n",
            "test_set_x_flatten shape: (12288, 50)\n",
            "test_set_y shape: (1, 50)\n",
            "sanity check after reshaping: [17 31 56 22 33]\n"
          ],
          "name": "stdout"
        }
      ]
    },
    {
      "cell_type": "markdown",
      "metadata": {
        "id": "od4MNG8evrdj"
      },
      "source": [
        "To represent color images, the red, green and blue channels (RGB) must be specified for each pixel, and so the pixel value is actually a vector of three numbers ranging from 0 to 255.\n",
        "\n",
        "One common preprocessing step in machine learning is to center and standardize your dataset, meaning that you substract the mean of the whole numpy array from each example, and then divide each example by the standard deviation of the whole numpy array. But for picture datasets, it is simpler and more convenient and works almost as well to just divide every row of the dataset by 255 (the maximum value of a pixel channel).\n",
        "\n",
        "<!-- During the training of your model, you're going to multiply weights and add biases to some initial inputs in order to observe neuron activations. Then you backpropogate with the gradients to train the model. But, it is extremely important for each feature to have a similar range such that our gradients don't explode. You will see that more in detail later in the lectures. !--> \n",
        "\n",
        "Let's standardize our dataset."
      ]
    },
    {
      "cell_type": "code",
      "metadata": {
        "collapsed": true,
        "id": "AJY0nMksvrdk"
      },
      "source": [
        "train_set_x = train_set_x_flatten/255.\n",
        "test_set_x = test_set_x_flatten/255."
      ],
      "execution_count": null,
      "outputs": []
    },
    {
      "cell_type": "markdown",
      "metadata": {
        "id": "8Ds6bPPavrdl"
      },
      "source": [
        "## 3 - General Architecture of the learning algorithm ##\n",
        "\n",
        "It's time to design a simple algorithm to distinguish cat images from non-cat images.  \n",
        "The input will be the image transformed into a vector above, normlaised and flattened. The activation function is the sigmoid. If the output is more than 0.5 then it is considered a cat, otherwise not.  \n",
        "\n",
        "![Logistic diagram to classify our cats images](../images/LogReg_kiank.png)\n",
        "\n",
        "**Mathematical expression of the algorithm**:\n",
        "\n",
        "For one example $x^{(i)}$:\n",
        "$$z^{(i)} = w^T x^{(i)} + b $$\n",
        "$$y_{hat}^{(i)} = a^{(i)} = sigmoid(z^{(i)})$$ \n",
        "$$ \\mathcal{L}(a^{(i)}, y^{(i)}) =  - y^{(i)}  \\log(a^{(i)}) - (1-y^{(i)} )  \\log(1-a^{(i)})$$\n",
        "\n",
        "The cost is then computed by summing over all training examples:\n",
        "$$ J = \\frac{1}{m} \\sum_{i=1}^m \\mathcal{L}(a^{(i)}, y^{(i)})$$\n",
        "\n",
        "Will use the *LogisticRegression* module from *sklearn*.   \n",
        "\n",
        "**Key steps**:\n",
        "* Initialize the parameters of the model\n",
        "* Learn the parameters for the model by minimizing the cost  \n",
        "* Use the learned parameters to make predictions (on the test set)\n",
        "* Analyse the results and conclude"
      ]
    },
    {
      "cell_type": "code",
      "metadata": {
        "collapsed": true,
        "id": "3DXiImYHvrdr"
      },
      "source": [
        "def print_mislabeled_images(classes, X, y, p):\n",
        "    \"\"\"\n",
        "    Plots images where predictions and truth were different.\n",
        "    X -- dataset\n",
        "    y -- true labels\n",
        "    p -- predictions\n",
        "    \"\"\"\n",
        "    a = p + y\n",
        "    mislabeled_indices = np.asarray(np.where(a == 1))\n",
        "    plt.rcParams['figure.figsize'] = (40.0, 40.0) # set default size of plots\n",
        "    num_images = len(mislabeled_indices[0])\n",
        "    for i in range(num_images):\n",
        "        index = mislabeled_indices[1][i]\n",
        "        \n",
        "        plt.subplot(2, num_images, i + 1)\n",
        "        plt.imshow(X[:,index].reshape(64,64,3), interpolation='nearest')\n",
        "        plt.axis('off')\n",
        "        t1 = classes[int(p[index])].decode(\"utf-8\")\n",
        "        t2 = classes[y[0,index]].decode(\"utf-8\")\n",
        "        plt.title(\"Prediction: \" + t1 + \" \\n Class: \" + t2)\n",
        "        \n",
        "    return num_images"
      ],
      "execution_count": null,
      "outputs": []
    },
    {
      "cell_type": "markdown",
      "metadata": {
        "collapsed": true,
        "id": "vapPyLQIvrdv"
      },
      "source": [
        "# Deep Neural Network for Image Classification\n",
        "\n",
        "Now we will build and apply a deep neural network to the problem."
      ]
    },
    {
      "cell_type": "markdown",
      "metadata": {
        "id": "-9j8_Y0Fvrdv"
      },
      "source": [
        "## Dataset\n",
        "We will use the same \"Cat vs non-Cat\" dataset as above. The model we had built had 72% test accuracy on classifying cats vs non-cats images. Hopefully, our new model will perform better!"
      ]
    },
    {
      "cell_type": "code",
      "metadata": {
        "scrolled": true,
        "colab": {
          "base_uri": "https://localhost:8080/",
          "height": 285
        },
        "id": "VfY4_t_1vrdv",
        "outputId": "b8b057d9-05d5-4f34-8489-e32f7bcc227f"
      },
      "source": [
        "# Example of a picture\n",
        "index = 10\n",
        "plt.imshow(train_set_x_orig[index])\n",
        "print (\"y = \" + str(train_set_y[0,index]) + \". It's a \" + classes[train_set_y[0,index]].decode(\"utf-8\") +  \" picture.\")"
      ],
      "execution_count": null,
      "outputs": [
        {
          "output_type": "stream",
          "text": [
            "y = 0. It's a non-cat picture.\n"
          ],
          "name": "stdout"
        },
        {
          "output_type": "display_data",
          "data": {
            "image/png": "[encoded data removed]",
            "text/plain": [
              "<Figure size 288x288 with 1 Axes>"
            ]
          },
          "metadata": {
            "tags": [],
            "needs_background": "light"
          }
        }
      ]
    },
    {
      "cell_type": "markdown",
      "metadata": {
        "id": "GlSqomxtvrdw"
      },
      "source": [
        "## Building the parts of our algorithm ## \n",
        "\n",
        "The main steps for building a Neural Network are:\n",
        "1. Define the model structure (such as number of input features) and the hyperparameters\n",
        "1. Initialize the model's weights\n",
        "1. Loop for the number of iterations:\n",
        "    - Calculate current loss (forward propagation)\n",
        "    - Calculate current gradient (backward propagation)\n",
        "    - Update parameters (gradient descent)\n",
        "1. Use the trained weights to predict the labels"
      ]
    },
    {
      "cell_type": "markdown",
      "metadata": {
        "id": "uteUh99Svrdw"
      },
      "source": [
        "## 4 - Defining the neural network structure"
      ]
    },
    {
      "cell_type": "markdown",
      "metadata": {
        "id": "iBb2ein4vrdx"
      },
      "source": [
        "![Generic Neural Network](../images/nn.png)\n",
        "We will define a deep network with a total of **five layers: input, output and three hidden layers**.  \n",
        "Each layer has a different number of units.  \n",
        "Defining the architecture of a neural network depends on the training data and the type of classification to perform and it is an art by itself.   Defining and re-fining the number of layers, units and all other parameters is called _hyperparameters tuning_ and we will see it in details in a next notebook.  \n",
        "For the moment we hard-code an initial set of parameters."
      ]
    },
    {
      "cell_type": "markdown",
      "metadata": {
        "id": "7PgrZ7tVvrdx"
      },
      "source": [
        "![the architecture](../images/architecture.png)"
      ]
    },
    {
      "cell_type": "markdown",
      "metadata": {
        "id": "5M9rPbXVvrdy"
      },
      "source": [
        "<u>Detailed Architecture</u>:\n",
        "- The input is a (64,64,3) image which is flattened to a vector of size $(12288,1)$.    \n",
        "- The corresponding vector: $[x_0,x_1,...,x_{12287}]^T$ is then multiplied by the weight matrix W.\n",
        "- You then add a bias term (the intercept b). the result is the linear unit.\n",
        "- next, we take its ReLU (Rectified Linear Unit) to get the vector: $[a_0^{[1]}, a_1^{[1]},..., a_{n^{[1]}-1}^{[1]}]^T$.  Each activation vector has a different size depending on the number of units  the layer.  \n",
        "- The process is repeated for each hidden layer (in our case three times) and several times (number of iterations), each time calculating the loss and back-propagating appropriate changes in the weights until the wished loss is reached.  \n",
        "- Finally, we take the sigmoid of the final linear unit. If it is greater than 0.5, we classify it to be a cat."
      ]
    },
    {
      "cell_type": "code",
      "metadata": {
        "collapsed": true,
        "id": "Arn7dHMjvrdz"
      },
      "source": [
        "### CONSTANTS DEFINING THE MODEL ####\n",
        "n_x = train_set_x_flatten.shape[0]     # size of input layer\n",
        "n_y = 1  # size of output layer, will be 0 or 1\n",
        "    # we define a neural network with total 5 layers, x, y and 3 hidden:\n",
        "    # the first hidden has 20 units, second has 7 units and third has 5\n",
        "nn_layers = [n_x, 20, 7, 5, n_y]  # length is 5 (layers)"
      ],
      "execution_count": null,
      "outputs": []
    },
    {
      "cell_type": "code",
      "metadata": {
        "colab": {
          "base_uri": "https://localhost:8080/"
        },
        "id": "VVFhpmYgvrdz",
        "outputId": "7d5ddf01-44f2-4d9f-c631-0ae1f8d6ce54"
      },
      "source": [
        "nn_layers"
      ],
      "execution_count": null,
      "outputs": [
        {
          "output_type": "execute_result",
          "data": {
            "text/plain": [
              "[12288, 20, 7, 5, 1]"
            ]
          },
          "metadata": {
            "tags": []
          },
          "execution_count": 11
        }
      ]
    },
    {
      "cell_type": "markdown",
      "metadata": {
        "id": "mwfg0n1Uvrdz"
      },
      "source": [
        "## 5 - Initializing parameters\n",
        "\n",
        "There are two types of parameters to initialize in a neural network:\n",
        "- the weight matrices $W^{[i]}$\n",
        "- the bias vectors $b^{[i]}$\n",
        "\n",
        "The weight matrix is initialised with random values while the bias vector as a vector of zeros.  \n",
        "In general, initializing all the weights to zero results in the network failing to **break symmetry**. This means that every neuron in each layer will learn the same thing and the network is no more powerful than a linear classifier such as logistic regression.  \n",
        "\n",
        "To break symmetry, we initialise the weights randomly. Following random initialisation, each neuron can then proceed to learn a different function of its inputs.  \n",
        "Of course, different initializations lead to different results and poor initialisation can slow down the optimisation algorithm.  \n",
        "\n",
        "One good practice is not to initialise to values that are too large, instead what bring good results are the so-called [Xavier](http://proceedings.mlr.press/v9/glorot10a/glorot10a.pdf) or the [He (for ReLU activation) initialisations](https://www.cv-foundation.org/openaccess/content_iccv_2015/papers/He_Delving_Deep_into_ICCV_2015_paper.pdf). "
      ]
    },
    {
      "cell_type": "markdown",
      "metadata": {
        "id": "O2hpLh33vrd0"
      },
      "source": [
        "### 5.1 - L-layer Neural Network\n",
        "\n",
        "The initialization for an L-layer neural network is complicated because there are many weight matrices and bias vectors. Need to make sure that the dimensions match between each layer."
      ]
    },
    {
      "cell_type": "markdown",
      "metadata": {
        "id": "QlcLv1rXvrd0"
      },
      "source": [
        "- The model's structure has $L-1$ layers using a ReLU activation function followed by an output layer with a sigmoid activation function.\n",
        "- We will store $n^{[l]}$, the number of units in different layers, in a variable `layer_dims`. For example, a model with two inputs, one hidden layer with 4 hidden units and an output layer with 1 output unit would have dimensions equal to [2,4,1]. Thus means `W1`'s shape is (4,2), `b1` is (4,1), `W2` is (1,4) and `b2` is (1,1). "
      ]
    },
    {
      "cell_type": "code",
      "metadata": {
        "collapsed": true,
        "id": "_xrd_lmfvrd1"
      },
      "source": [
        "#  FUNCTION: initialize_parameters\n",
        "\n",
        "def initialise_parameters(layer_dims):\n",
        "    \"\"\"\n",
        "    Arguments:\n",
        "    layer_dims -- python array (list) containing the dimensions of each layer in our network\n",
        "    \n",
        "    Returns:\n",
        "    parameters -- python dictionary containing your parameters \"W1\", \"b1\", ..., \"WL\", \"bL\":\n",
        "                    Wl -- weight matrix of shape (layer_dims[l], layer_dims[l-1])\n",
        "                    bl -- bias vector of shape (layer_dims[l], 1)\n",
        "    \"\"\"\n",
        "    \n",
        "    \n",
        "    parameters = {}\n",
        "    L = len(layer_dims)            # number of layers in the network\n",
        "\n",
        "    for l in range(1, L):\n",
        "        parameters['W' + str(l)] = np.random.randn(layer_dims[l], layer_dims[l-1]) / np.sqrt(layer_dims[l-1])\n",
        "        parameters['b' + str(l)] = np.zeros((layer_dims[l], 1))\n",
        "        \n",
        "            # unit tests\n",
        "        assert(parameters['W' + str(l)].shape == (layer_dims[l], layer_dims[l-1]))\n",
        "        assert(parameters['b' + str(l)].shape == (layer_dims[l], 1))\n",
        "\n",
        "        \n",
        "    return parameters"
      ],
      "execution_count": null,
      "outputs": []
    },
    {
      "cell_type": "markdown",
      "metadata": {
        "id": "euf-5OrVvrd1"
      },
      "source": [
        "How would look like that example network with 3 layers (of 2, 4 and 1 units) initialised?"
      ]
    },
    {
      "cell_type": "code",
      "metadata": {
        "colab": {
          "base_uri": "https://localhost:8080/"
        },
        "id": "9ZR8A9TIvrd2",
        "outputId": "bd6cbd86-ac2c-43d1-9366-44eb544ea493"
      },
      "source": [
        "np.random.seed(3)\n",
        "parameters = initialise_parameters([2,4,1])\n",
        "\n",
        "print(\"W1 = \" + str(parameters[\"W1\"]))\n",
        "print(\"b1 = \" + str(parameters[\"b1\"]))\n",
        "print(\"W2 = \" + str(parameters[\"W2\"]))\n",
        "print(\"b2 = \" + str(parameters[\"b2\"]))"
      ],
      "execution_count": null,
      "outputs": [
        {
          "output_type": "stream",
          "text": [
            "W1 = [[ 1.26475132  0.30865908]\n",
            " [ 0.06823401 -1.31768833]\n",
            " [-0.19614308 -0.25085248]\n",
            " [-0.05850706 -0.44335643]]\n",
            "b1 = [[0.]\n",
            " [0.]\n",
            " [0.]\n",
            " [0.]]\n",
            "W2 = [[-0.02190908 -0.23860902 -0.65693238  0.44231119]]\n",
            "b2 = [[0.]]\n"
          ],
          "name": "stdout"
        }
      ]
    },
    {
      "cell_type": "markdown",
      "metadata": {
        "id": "bXmLTQM6vrd3"
      },
      "source": [
        "## 6 - Forward propagation module\n",
        "\n",
        "Now that we have initialized our parameters, we will do the forward propagation module.  \n",
        "\n",
        "![Feed Forward](../images/forward.png)\n",
        "\n",
        "We will implement some helper functions and then put all together: \n",
        "\n",
        "- linear_forward:  implement the linear part, i.e. the $$Z^{[l]} = W^{[l]}A^{[l-1]} +b^{[l]}$$ equation, where $A^{[0]} = X$.\n",
        "- linear_activation_forward: will add to the linear part the activation where activation will be either ReLU or Sigmoid. \n",
        "- L-model_forward: will call the [LINEAR -> RELU] $\\times$ (L-1) times, finally the LINEAR -> SIGMOID\n",
        "\n",
        "\n",
        "### 6.1 - Linear Forward \n"
      ]
    },
    {
      "cell_type": "code",
      "metadata": {
        "collapsed": true,
        "id": "erc2F0mbvrd3"
      },
      "source": [
        "#  FUNCTION: linear_forward\n",
        "\n",
        "def linear_forward(A, W, b):\n",
        "    \"\"\"\n",
        "    Implement the linear part of a layer's forward propagation.\n",
        "\n",
        "    Arguments:\n",
        "    A -- activations from previous layer (or input data): (size of previous layer, number of examples)\n",
        "    W -- weights matrix: numpy array of shape (size of current layer, size of previous layer)\n",
        "    b -- bias vector, numpy array of shape (size of the current layer, 1)\n",
        "\n",
        "    Returns:\n",
        "    Z -- the input of the activation function, also called pre-activation parameter \n",
        "    cache -- a python dictionary containing \"A\", \"W\" and \"b\" ; stored for computing the backward pass efficiently\n",
        "    \"\"\"\n",
        "    \n",
        "    Z = np.dot(W, A) + b\n",
        "    \n",
        "    assert(Z.shape == (W.shape[0], A.shape[1]))\n",
        "    cache = (A, W, b)\n",
        "    \n",
        "    return Z, cache"
      ],
      "execution_count": null,
      "outputs": []
    },
    {
      "cell_type": "markdown",
      "metadata": {
        "id": "1ikZn9EFvrd4"
      },
      "source": [
        "A quick check:"
      ]
    },
    {
      "cell_type": "code",
      "metadata": {
        "collapsed": true,
        "id": "VhXqt1GMvrd4"
      },
      "source": [
        "def linear_forward_test_case():\n",
        "    np.random.seed(1)\n",
        "\n",
        "    A = np.random.randn(3,2)\n",
        "    W = np.random.randn(1,3)\n",
        "    b = np.random.randn(1,1)\n",
        "    \n",
        "    Z, linear_cache = linear_forward(A, W, b)\n",
        "    \n",
        "    assert(round(Z[0][0], 5) ==  3.26295)\n",
        "    assert(round(Z[0][1], 5) == -1.23430)\n",
        "\n",
        "    return \"OK\""
      ],
      "execution_count": null,
      "outputs": []
    },
    {
      "cell_type": "code",
      "metadata": {
        "colab": {
          "base_uri": "https://localhost:8080/"
        },
        "id": "IZG4Q2zQvrd4",
        "outputId": "080d64b2-a19b-4cc8-f00a-e8a6016db514"
      },
      "source": [
        "print(linear_forward_test_case())"
      ],
      "execution_count": null,
      "outputs": [
        {
          "output_type": "stream",
          "text": [
            "OK\n"
          ],
          "name": "stdout"
        }
      ]
    },
    {
      "cell_type": "markdown",
      "metadata": {
        "id": "ohBNUDVpvrd5"
      },
      "source": [
        "### 6.2 - Linear-Activation Forward\n",
        "\n",
        "In this notebook, we will use two activation functions:\n",
        "\n",
        "- **Sigmoid**: $\\sigma(Z) = \\sigma(W A + b) = \\frac{1}{ 1 + e^{-(W A + b)}}$.  \n",
        "This function returns **two** items: the activation value \"`a`\" and a \"`cache`\" that contains \"`Z`\" (it's what we will feed in to the corresponding backward function). To use it you could just call: \n",
        "``` python\n",
        "A, activation_cache = sigmoid(Z)\n",
        "```\n",
        "\n",
        "- **ReLU**: The mathematical formula for ReLu is $A = RELU(Z) = max(0, Z)$.  \n",
        "This function returns **two** items: the activation value \"`A`\" and a \"`cache`\" that contains \"`Z`\" (it's what we will feed in to the corresponding backward function). To use it you could just call:\n",
        "``` python\n",
        "A, activation_cache = relu(Z)\n",
        "```"
      ]
    },
    {
      "cell_type": "markdown",
      "metadata": {
        "id": "i3S5OCwgvrd5"
      },
      "source": [
        "#### activation functions"
      ]
    },
    {
      "cell_type": "code",
      "metadata": {
        "collapsed": true,
        "id": "-dfBo3huvrd5"
      },
      "source": [
        "#  FUNCTION: sigmoid\n",
        "\n",
        "def sigmoid(Z):\n",
        "    \"\"\"\n",
        "    Implements the sigmoid activation in numpy\n",
        "    \n",
        "    Arguments:\n",
        "    Z -- numpy array of any shape\n",
        "    \n",
        "    Returns:\n",
        "    A -- output of sigmoid(z), same shape as Z\n",
        "    cache -- returns Z as well, useful during backpropagation\n",
        "    \"\"\"\n",
        "    \n",
        "    A = 1/(1+np.exp(-Z))\n",
        "    cache = Z\n",
        "    \n",
        "    return A, cache"
      ],
      "execution_count": null,
      "outputs": []
    },
    {
      "cell_type": "markdown",
      "metadata": {
        "id": "RXNTNM9fvrd5"
      },
      "source": [
        "A quick black-box test for the sigmoid:"
      ]
    },
    {
      "cell_type": "code",
      "metadata": {
        "collapsed": true,
        "id": "hZUcgOkYvrd6"
      },
      "source": [
        "def sigmoid_test_case():\n",
        "    \n",
        "    result, cache = sigmoid(np.array([0,2]))\n",
        "                                \n",
        "    assert(round(result[0], 5) ==  0.5)\n",
        "    assert(round(result[1], 5) == 0.8808)\n",
        "\n",
        "    return \"OK\""
      ],
      "execution_count": null,
      "outputs": []
    },
    {
      "cell_type": "code",
      "metadata": {
        "colab": {
          "base_uri": "https://localhost:8080/",
          "height": 35
        },
        "id": "JsoRBktGvrd6",
        "outputId": "0ab4e954-1814-4a4a-da45-e701e9f95554"
      },
      "source": [
        "sigmoid_test_case()"
      ],
      "execution_count": null,
      "outputs": [
        {
          "output_type": "execute_result",
          "data": {
            "application/vnd.google.colaboratory.intrinsic+json": {
              "type": "string"
            },
            "text/plain": [
              "'OK'"
            ]
          },
          "metadata": {
            "tags": []
          },
          "execution_count": 19
        }
      ]
    },
    {
      "cell_type": "code",
      "metadata": {
        "collapsed": true,
        "id": "2JMCOA6Xvrd6"
      },
      "source": [
        "def relu(Z):\n",
        "    \"\"\"\n",
        "    Implement the RELU function.\n",
        "\n",
        "    Arguments:\n",
        "    Z -- Output of the linear layer, of any shape\n",
        "\n",
        "    Returns:\n",
        "    A -- Post-activation parameter, of the same shape as Z\n",
        "    cache -- a python dictionary containing \"A\" ; stored for computing the backward pass efficiently\n",
        "    \"\"\"\n",
        "    \n",
        "    A = np.maximum(0,Z)\n",
        "    \n",
        "    assert(A.shape == Z.shape)\n",
        "    \n",
        "    cache = Z \n",
        "    return A, cache\n"
      ],
      "execution_count": null,
      "outputs": []
    },
    {
      "cell_type": "markdown",
      "metadata": {
        "id": "l-xjy5c7vrd7"
      },
      "source": [
        "**Next**: Implement the forward propagation of the *LINEAR->ACTIVATION* layer.  \n",
        "Mathematical relation is: $A^{[l]} = g(Z^{[l]}) = g(W^{[l]}A^{[l-1]} +b^{[l]})$ where the activation \"g\" can be sigmoid() or relu(). Use linear_forward() and the correct activation function."
      ]
    },
    {
      "cell_type": "code",
      "metadata": {
        "collapsed": true,
        "id": "FS5F2ydnvrd7"
      },
      "source": [
        "# FUNCTION: linear_activation_forward\n",
        "\n",
        "def linear_activation_forward(A_prev, W, b, activation):\n",
        "    \"\"\"\n",
        "    Implement the forward propagation for the LINEAR->ACTIVATION layer\n",
        "\n",
        "    Arguments:\n",
        "    A_prev -- activations from previous layer (or input data): (size of previous layer, number of examples)\n",
        "    W -- weights matrix: numpy array of shape (size of current layer, size of previous layer)\n",
        "    b -- bias vector, numpy array of shape (size of the current layer, 1)\n",
        "    activation -- the activation to be used in this layer, stored as a text string: \"sigmoid\" or \"relu\"\n",
        "\n",
        "    Returns:\n",
        "    A -- the output of the activation function, also called the post-activation value \n",
        "    cache -- a python dictionary containing \"linear_cache\" and \"activation_cache\";\n",
        "             stored for computing the backward pass efficiently\n",
        "    \"\"\"\n",
        "\n",
        "    Z, linear_cache = linear_forward(A_prev, W, b)\n",
        "\n",
        "    if activation == \"sigmoid\":\n",
        "        A, activation_cache = sigmoid(Z)\n",
        "    \n",
        "    elif activation == \"relu\":\n",
        "        A, activation_cache = relu(Z)\n",
        "    \n",
        "    assert (A.shape == (W.shape[0], A_prev.shape[1]))\n",
        "    cache = (linear_cache, activation_cache)\n",
        "\n",
        "    return A, cache"
      ],
      "execution_count": null,
      "outputs": []
    },
    {
      "cell_type": "markdown",
      "metadata": {
        "id": "nrG_jop7vrd7"
      },
      "source": [
        "As usual, a quick test:"
      ]
    },
    {
      "cell_type": "code",
      "metadata": {
        "collapsed": true,
        "id": "_j5pz8_Avrd7"
      },
      "source": [
        "def linear_activation_forward_test_case():\n",
        "\n",
        "    np.random.seed(2)\n",
        "\n",
        "    A_prev = np.random.randn(3,2)\n",
        "    W = np.random.randn(1,3)\n",
        "    b = np.random.randn(1,1)\n",
        "    \n",
        "    A, linear_activation_cache = linear_activation_forward(A_prev, W, b, activation = \"sigmoid\")\n",
        "\n",
        "    assert(round(A[0][0], 5) == 0.9689)\n",
        "    assert(round(A[0][1], 5) == 0.11013)\n",
        "\n",
        "\n",
        "    A, linear_activation_cache = linear_activation_forward(A_prev, W, b, activation = \"relu\")\n",
        "\n",
        "    assert(round(A[0][0], 5) == 3.43896)\n",
        "    assert(round(A[0][1], 5) == 0.0)\n",
        "\n",
        "\n",
        "    return \"OK\""
      ],
      "execution_count": null,
      "outputs": []
    },
    {
      "cell_type": "code",
      "metadata": {
        "colab": {
          "base_uri": "https://localhost:8080/",
          "height": 35
        },
        "id": "2G76qZ1Tvrd8",
        "outputId": "d37f8c83-a074-45cf-89f4-9d538561b993"
      },
      "source": [
        "linear_activation_forward_test_case()"
      ],
      "execution_count": null,
      "outputs": [
        {
          "output_type": "execute_result",
          "data": {
            "application/vnd.google.colaboratory.intrinsic+json": {
              "type": "string"
            },
            "text/plain": [
              "'OK'"
            ]
          },
          "metadata": {
            "tags": []
          },
          "execution_count": 23
        }
      ]
    },
    {
      "cell_type": "markdown",
      "metadata": {
        "id": "7S8Jx_h_vrd8"
      },
      "source": [
        "**Note**: In deep learning, the \"[LINEAR->ACTIVATION]\" computation is counted as a single layer in the neural network, not two layers. "
      ]
    },
    {
      "cell_type": "markdown",
      "metadata": {
        "id": "yBvkkfjNvrd8"
      },
      "source": [
        "###  L-Layer Model \n",
        "\n",
        "Now we put all together, using the helper functions:  \n",
        "the (`linear_activation_forward` with RELU) $L-1$ times, then follows that with one `linear_activation_forward` with SIGMOID.\n"
      ]
    },
    {
      "cell_type": "code",
      "metadata": {
        "collapsed": true,
        "id": "wkH0wpo0vrd8"
      },
      "source": [
        "#  FUNCTION: L_model_forward\n",
        "\n",
        "def L_model_forward(X, parameters):\n",
        "    \"\"\"\n",
        "    Implement forward propagation for the [LINEAR->RELU]*(L-1)->LINEAR->SIGMOID computation\n",
        "    \n",
        "    Arguments:\n",
        "    X -- data, numpy array of shape (input size, number of examples)\n",
        "    parameters -- output of initialize_parameters_deep()\n",
        "    \n",
        "    Returns:\n",
        "    AL -- last post-activation value\n",
        "    caches -- list of caches containing:\n",
        "                every cache of linear_relu_forward() (there are L-1 of them, indexed from 0 to L-2)\n",
        "                the cache of linear_sigmoid_forward() (there is one, indexed L-1)\n",
        "    \"\"\"\n",
        "\n",
        "    caches = []\n",
        "    A = X\n",
        "    L = len(parameters) // 2                  # number of layers in the neural network\n",
        "    \n",
        "    # Implement [LINEAR -> RELU]*(L-1). Add \"cache\" to the \"caches\" list.\n",
        "    for l in range(1, L):\n",
        "        A_prev = A \n",
        "        w_l = parameters['W' + str(l)] \n",
        "        b_l = parameters['b' + str(l)] \n",
        "        A, cache = linear_activation_forward(A_prev, w_l, b_l, activation = \"relu\")\n",
        "        caches.append(cache)\n",
        "    \n",
        "    # Implement LINEAR -> SIGMOID. Add \"cache\" to the \"caches\" list.\n",
        "    w_L = parameters['W' + str(L)] \n",
        "    b_L = parameters['b' + str(L)] \n",
        "    Yhat, cache = linear_activation_forward(A, w_L, b_L, activation = \"sigmoid\")\n",
        "    caches.append(cache)\n",
        "    \n",
        "    assert(Yhat.shape == (1,X.shape[1]))\n",
        "            \n",
        "    return Yhat, caches"
      ],
      "execution_count": null,
      "outputs": []
    },
    {
      "cell_type": "code",
      "metadata": {
        "collapsed": true,
        "id": "SvVs0STsvrd9"
      },
      "source": [
        "def L_model_forward_test_case():\n",
        "    np.random.seed(6)\n",
        "    X = np.random.randn(5,4)\n",
        "    W1 = np.random.randn(4,5)\n",
        "    b1 = np.random.randn(4,1)\n",
        "    W2 = np.random.randn(3,4)\n",
        "    b2 = np.random.randn(3,1)\n",
        "    W3 = np.random.randn(1,3)\n",
        "    b3 = np.random.randn(1,1)\n",
        "  \n",
        "    parameters = {\"W1\": W1,\n",
        "                  \"b1\": b1,\n",
        "                  \"W2\": W2,\n",
        "                  \"b2\": b2,\n",
        "                  \"W3\": W3,\n",
        "                  \"b3\": b3}\n",
        "    \n",
        "    AL, caches = L_model_forward(X, parameters)\n",
        "\n",
        "    np.testing.assert_array_almost_equal(AL, [[0.03922,  0.704989,  0.19734,  0.04728]], decimal=5)\n",
        "    assert(len(caches) == 3)\n",
        "\n",
        "    return \"OK\"\n"
      ],
      "execution_count": null,
      "outputs": []
    },
    {
      "cell_type": "code",
      "metadata": {
        "colab": {
          "base_uri": "https://localhost:8080/",
          "height": 35
        },
        "id": "QzqbfzDHvrd9",
        "outputId": "f45b95f2-ecdf-4369-c4c9-453b5c27618e"
      },
      "source": [
        "L_model_forward_test_case()"
      ],
      "execution_count": null,
      "outputs": [
        {
          "output_type": "execute_result",
          "data": {
            "application/vnd.google.colaboratory.intrinsic+json": {
              "type": "string"
            },
            "text/plain": [
              "'OK'"
            ]
          },
          "metadata": {
            "tags": []
          },
          "execution_count": 26
        }
      ]
    },
    {
      "cell_type": "markdown",
      "metadata": {
        "id": "i5_KYX4Dvrd9"
      },
      "source": [
        "Great! Now we have a full forward propagation that takes the input X and outputs a row vector $A^{[L]}$ containing our predictions. It also records all intermediate values in \"caches\". Using $A^{[L]}$, we can compute the cost of our predictions."
      ]
    },
    {
      "cell_type": "markdown",
      "metadata": {
        "id": "0Dqi6tACvrd-"
      },
      "source": [
        "## 7 - Cost function\n",
        "\n",
        "Now we need to compute the cost, because we want to check if our model is actually learning.\n",
        "\n",
        "**Next**: Compute the cross-entropy cost $J$, using the following formula: $$-\\frac{1}{m} \\sum\\limits_{i = 1}^{m} (y^{(i)}\\log\\left(a^{[L] (i)}\\right) + (1-y^{(i)})\\log\\left(1- a^{[L](i)}\\right)) \\tag{7}$$\n"
      ]
    },
    {
      "cell_type": "code",
      "metadata": {
        "collapsed": true,
        "id": "f-cgOLYpvrd-"
      },
      "source": [
        "#  FUNCTION: compute_cost\n",
        "\n",
        "def compute_cost(Yhat, Y):\n",
        "    \"\"\"\n",
        "    Implement the cross-entropy cost function\n",
        "\n",
        "    Arguments:\n",
        "    Yhat -- probability vector corresponding to the label predictions, shape (1, number of examples)\n",
        "    Y -- true \"label\" vector (for example: containing 0 if non-cat, 1 if cat), shape (1, number of examples)\n",
        "\n",
        "    Returns:\n",
        "    cost -- cross-entropy cost\n",
        "    \"\"\"\n",
        "    \n",
        "    m = Y.shape[1]\n",
        "\n",
        "        # Compute loss from AL and Y.\n",
        "    logprobs = np.dot(Y, np.log(Yhat).T) + np.dot((1-Y), np.log(1-Yhat).T)\n",
        "\n",
        "    cost = (-1./m) * logprobs \n",
        "\n",
        "    \n",
        "    cost = np.squeeze(cost)      # To make sure your cost's shape is what we expect (e.g. this turns [[17]] into 17).\n",
        "    assert(cost.shape == ())\n",
        "    \n",
        "    return cost"
      ],
      "execution_count": null,
      "outputs": []
    },
    {
      "cell_type": "code",
      "metadata": {
        "collapsed": true,
        "id": "ERRvTgehvrd-"
      },
      "source": [
        "def compute_cost_test_case():\n",
        "    y = np.asarray([[1, 1, 1]])\n",
        "    al = np.array([[.8,.9,0.4]])\n",
        "    \n",
        "    cost = compute_cost(al, y)\n",
        "    \n",
        "    #assert(cost == 0.41493)\n",
        "    np.testing.assert_approx_equal(cost, 0.41493, significant=5)\n",
        "    \n",
        "    return \"OK\""
      ],
      "execution_count": null,
      "outputs": []
    },
    {
      "cell_type": "code",
      "metadata": {
        "colab": {
          "base_uri": "https://localhost:8080/",
          "height": 35
        },
        "id": "MJD8wvUTvrd_",
        "outputId": "5d83b282-19ac-4304-8885-0e74f53428be"
      },
      "source": [
        "compute_cost_test_case()"
      ],
      "execution_count": null,
      "outputs": [
        {
          "output_type": "execute_result",
          "data": {
            "application/vnd.google.colaboratory.intrinsic+json": {
              "type": "string"
            },
            "text/plain": [
              "'OK'"
            ]
          },
          "metadata": {
            "tags": []
          },
          "execution_count": 29
        }
      ]
    },
    {
      "cell_type": "markdown",
      "metadata": {
        "id": "uNWNrJorvrd_"
      },
      "source": [
        "## 8 - Backward propagation module\n",
        "\n",
        "Now we will implement the backward function for the whole network.  \n",
        "\n",
        "![Backward pass](../images/backward.png) \n",
        "\n",
        "Just like with forward propagation, we will implement helper functions for backpropagation. Remember that back propagation is used to calculate the gradient of the loss function with respect to the parameters. \n",
        "You can see more about backpropagation in my previous post: \n",
        "\n",
        "\n",
        "Now, similar to forward propagation, we are going to build the backward propagation in three steps:\n",
        "- linear backward\n",
        "- LINEAR -> ACTIVATION backward where ACTIVATION computes the derivative of either the ReLU or sigmoid activation\n",
        "- [LINEAR -> RELU] $\\times$ (L-1) -> LINEAR -> SIGMOID backward (whole model)"
      ]
    },
    {
      "cell_type": "markdown",
      "metadata": {
        "id": "B4THCcpVvreA"
      },
      "source": [
        "**Reminder**: \n",
        "![Forward and Backward propagation for LINEAR->RELU->LINEAR->SIGMOID](../images/backprop_kiank.png)\n",
        "\n",
        "_The purple blocks represent the forward propagation, and the red blocks represent the backward propagation._"
      ]
    },
    {
      "cell_type": "markdown",
      "metadata": {
        "id": "iWSMoU7bvreA"
      },
      "source": [
        "### 8.1 - Linear backward\n",
        "\n",
        "For layer $l$, the linear part is: $Z^{[l]} = W^{[l]} A^{[l-1]} + b^{[l]}$ (followed by an activation).\n",
        "\n",
        "Now we need to compute the three derivatives $(dW^{[l]}, db^{[l]}, dA^{[l]})$, using as input a known derivate $dZ^{[l]}  = \\frac{\\partial \\mathcal{L} }{\\partial Z^{[l]}}$. :\n",
        "\n",
        "\n",
        "$$ dW^{[l]} = \\frac{\\partial \\mathcal{L} }{\\partial W^{[l]}} = \\frac{1}{m} dZ^{[l]} A^{[l-1] T} $$\n",
        "$$ db^{[l]} = \\frac{\\partial \\mathcal{L} }{\\partial b^{[l]}} = \\frac{1}{m} \\sum_{i = 1}^{m} dZ^{[l](i)}$$\n",
        "$$ dA^{[l-1]} = \\frac{\\partial \\mathcal{L} }{\\partial A^{[l-1]}} = W^{[l] T} dZ^{[l]} $$"
      ]
    },
    {
      "cell_type": "code",
      "metadata": {
        "collapsed": true,
        "id": "gSR8vb4kvreA"
      },
      "source": [
        "#  FUNCTION: linear_backward\n",
        "\n",
        "def linear_backward(dZ, cache):\n",
        "    \"\"\"\n",
        "    Implement the linear portion of backward propagation for a single layer (layer l)\n",
        "\n",
        "    Arguments:\n",
        "    dZ -- Gradient of the cost with respect to the linear output (of current layer l)\n",
        "    cache -- tuple of values (A_prev, W, b) coming from the forward propagation in the current layer\n",
        "\n",
        "    Returns:\n",
        "    dA_prev -- Gradient of the cost with respect to the activation (of the previous layer l-1), same shape as A_prev\n",
        "    dW -- Gradient of the cost with respect to W (current layer l), same shape as W\n",
        "    db -- Gradient of the cost with respect to b (current layer l), same shape as b\n",
        "    \"\"\"\n",
        "    A_prev, W, b = cache\n",
        "    m = A_prev.shape[1]\n",
        "\n",
        "    dW = (1./m) * np.dot(dZ, A_prev.T)\n",
        "    db = (1./m) * np.sum(dZ, axis=1, keepdims=True)\n",
        "    dA_prev = np.dot(W.T, dZ)\n",
        "    \n",
        "    assert (dA_prev.shape == A_prev.shape)\n",
        "    assert (dW.shape == W.shape)\n",
        "    assert (db.shape == b.shape)\n",
        "    \n",
        "    return dA_prev, dW, db"
      ],
      "execution_count": null,
      "outputs": []
    },
    {
      "cell_type": "code",
      "metadata": {
        "collapsed": true,
        "id": "uUxOzj2cvreB"
      },
      "source": [
        "def linear_backward_test_case():\n",
        "\n",
        "    np.random.seed(1)\n",
        "\n",
        "    dZ = np.random.randn(1,2)\n",
        "    \n",
        "    A = np.random.randn(3,2)\n",
        "    W = np.random.randn(1,3)\n",
        "    b = np.random.randn(1,1)\n",
        "    \n",
        "    linear_cache = (A, W, b)\n",
        "    \n",
        "    dA_prev, dW, db = linear_backward(dZ, linear_cache)\n",
        "    \n",
        "    np.testing.assert_array_almost_equal(dA_prev, [[ 0.51823, -0.19517], [-0.40506,  0.15255], [ 2.37496, -0.89445]], decimal=5)\n",
        "    np.testing.assert_array_almost_equal(dW, [[-0.10077,  1.40685,  1.64992]], decimal=5)\n",
        "    np.testing.assert_approx_equal(db, 0.50629, significant=5)\n",
        "\n",
        "\n",
        "    \n",
        "    return \"OK\""
      ],
      "execution_count": null,
      "outputs": []
    },
    {
      "cell_type": "code",
      "metadata": {
        "colab": {
          "base_uri": "https://localhost:8080/",
          "height": 35
        },
        "id": "vHLi3whGvreB",
        "outputId": "0b71bc43-8dca-495d-c853-3f204b5fefe9"
      },
      "source": [
        "linear_backward_test_case()"
      ],
      "execution_count": null,
      "outputs": [
        {
          "output_type": "execute_result",
          "data": {
            "application/vnd.google.colaboratory.intrinsic+json": {
              "type": "string"
            },
            "text/plain": [
              "'OK'"
            ]
          },
          "metadata": {
            "tags": []
          },
          "execution_count": 32
        }
      ]
    },
    {
      "cell_type": "markdown",
      "metadata": {
        "id": "6uBhrlWPvreB"
      },
      "source": [
        "### 8.2 - Linear-Activation backward\n",
        "\n",
        "Next, we will create a function that merges the two helper functions: **`linear_backward`** and the backward step for the activation: \n",
        "\n",
        "- **`sigmoid_backward`**: Implements the backward propagation for SIGMOID unit. \n",
        "\n",
        "- **`relu_backward`**: Implements the backward propagation for RELU unit. \n",
        "\n",
        "If $g(.)$ is the activation function, \n",
        "`sigmoid_backward` and `relu_backward` compute $$dZ^{[l]} = dA^{[l]} * g'(Z^{[l]}) \\tag{11}$$.  \n"
      ]
    },
    {
      "cell_type": "code",
      "metadata": {
        "collapsed": true,
        "id": "cBXboqBFvreC"
      },
      "source": [
        "def sigmoid_backward(dA, cache):\n",
        "    \"\"\"\n",
        "    Implement the backward propagation for a single SIGMOID unit.\n",
        "\n",
        "    Arguments:\n",
        "    dA -- post-activation gradient, of any shape\n",
        "    cache -- 'Z' where we store for computing backward propagation efficiently\n",
        "\n",
        "    Returns:\n",
        "    dZ -- Gradient of the cost with respect to Z\n",
        "    \"\"\"\n",
        "    \n",
        "    Z = cache\n",
        "    \n",
        "    s = 1/(1+np.exp(-Z))\n",
        "    dZ = dA * s * (1-s)\n",
        "    \n",
        "    assert (dZ.shape == Z.shape)\n",
        "    \n",
        "    return dZ\n"
      ],
      "execution_count": null,
      "outputs": []
    },
    {
      "cell_type": "code",
      "metadata": {
        "collapsed": true,
        "id": "MKhsyPZvvreC"
      },
      "source": [
        "def relu_backward(dA, cache):\n",
        "    \"\"\"\n",
        "    Implement the backward propagation for a single RELU unit.\n",
        "\n",
        "    Arguments:\n",
        "    dA -- post-activation gradient, of any shape\n",
        "    cache -- 'Z' where we store for computing backward propagation efficiently\n",
        "\n",
        "    Returns:\n",
        "    dZ -- Gradient of the cost with respect to Z\n",
        "    \"\"\"\n",
        "    \n",
        "    Z = cache\n",
        "    dZ = np.array(dA, copy=True) # just converting dz to a correct object.\n",
        "    \n",
        "    # When z <= 0, you should set dz to 0 as well. \n",
        "    dZ[Z <= 0] = 0\n",
        "    \n",
        "    assert (dZ.shape == Z.shape)\n",
        "    \n",
        "    return dZ"
      ],
      "execution_count": null,
      "outputs": []
    },
    {
      "cell_type": "code",
      "metadata": {
        "collapsed": true,
        "id": "Y75FCZxSvreC"
      },
      "source": [
        "#  FUNCTION: linear_activation_backward\n",
        "\n",
        "def linear_activation_backward(dA, cache, activation):\n",
        "    \"\"\"\n",
        "    Implement the backward propagation for the LINEAR->ACTIVATION layer.\n",
        "    \n",
        "    Arguments:\n",
        "    dA -- post-activation gradient for current layer l \n",
        "    cache -- tuple of values (linear_cache, activation_cache) we store for computing backward propagation efficiently\n",
        "    activation -- the activation to be used in this layer, stored as a text string: \"sigmoid\" or \"relu\"\n",
        "    \n",
        "    Returns:\n",
        "    dA_prev -- Gradient of the cost with respect to the activation (of the previous layer l-1), same shape as A_prev\n",
        "    dW -- Gradient of the cost with respect to W (current layer l), same shape as W\n",
        "    db -- Gradient of the cost with respect to b (current layer l), same shape as b\n",
        "    \"\"\"\n",
        "    linear_cache, activation_cache = cache\n",
        "    \n",
        "    if activation == \"relu\":\n",
        "        dZ = relu_backward(dA, activation_cache)\n",
        "        \n",
        "    elif activation == \"sigmoid\":\n",
        "        dZ = sigmoid_backward(dA, activation_cache)\n",
        "\n",
        "    dA_prev, dW, db = linear_backward(dZ, linear_cache)\n",
        "\n",
        "    return dA_prev, dW, db"
      ],
      "execution_count": null,
      "outputs": []
    },
    {
      "cell_type": "code",
      "metadata": {
        "collapsed": true,
        "id": "DzaoSNWCvreD"
      },
      "source": [
        "def linear_activation_backward_test_case():\n",
        "\n",
        "    np.random.seed(2)\n",
        "\n",
        "    dA = np.random.randn(1,2)\n",
        "    A = np.random.randn(3,2)\n",
        "    W = np.random.randn(1,3)\n",
        "    b = np.random.randn(1,1)\n",
        "    Z = np.random.randn(1,2)\n",
        "    \n",
        "    linear_cache = (A, W, b)\n",
        "    activation_cache = Z\n",
        "    linear_activation_cache = (linear_cache, activation_cache)\n",
        "    \n",
        "    dA_prev, dW, db = linear_activation_backward(dA, linear_activation_cache, activation = \"sigmoid\")\n",
        "    \n",
        "    np.testing.assert_array_almost_equal(dA_prev, [[0.11018,  0.01105], [ 0.09467,  0.00949], [-0.05743, -0.00576]], decimal=5)\n",
        "    np.testing.assert_approx_equal(db, -0.057296, significant=5)\n",
        "    np.testing.assert_array_almost_equal(dW, [[ 0.10267,  0.09778, -0.01968]] , decimal=5)\n",
        "\n",
        "    \n",
        "    dA_prev, dW, db = linear_activation_backward(dA, linear_activation_cache, activation = \"relu\")\n",
        "\n",
        "\n",
        "    np.testing.assert_array_almost_equal(dA_prev, [[ 0.4409,  0.], [ 0.37884,  0. ], [-0.22982, 0. ]] , decimal=5)\n",
        "    np.testing.assert_array_almost_equal(dW, [[ 0.44514,  0.37371, -0.10479]] , decimal=5)\n",
        "    np.testing.assert_approx_equal(db, -0.20838, significant=5)\n",
        "    \n",
        "    return \"OK\""
      ],
      "execution_count": null,
      "outputs": []
    },
    {
      "cell_type": "code",
      "metadata": {
        "colab": {
          "base_uri": "https://localhost:8080/",
          "height": 35
        },
        "id": "nrfHbGCNvreD",
        "outputId": "5a689a42-f945-43c3-8201-31acc491c454"
      },
      "source": [
        "linear_activation_backward_test_case()"
      ],
      "execution_count": null,
      "outputs": [
        {
          "output_type": "execute_result",
          "data": {
            "application/vnd.google.colaboratory.intrinsic+json": {
              "type": "string"
            },
            "text/plain": [
              "'OK'"
            ]
          },
          "metadata": {
            "tags": []
          },
          "execution_count": 37
        }
      ]
    },
    {
      "cell_type": "markdown",
      "metadata": {
        "id": "u9uHoyYGvreE"
      },
      "source": [
        "### 8.3 - L-Model Backward \n",
        "\n",
        "Recall that when we implemented the `L_model_forward` function, at each iteration, we stored a cache which contains (X,W,b, and z). In the back propagation module, we will use those variables to compute the gradients. Therefore, in the `L_model_backward` function, we will iterate through all the hidden layers backward, starting from layer $L$. On each step, we will use the cached values for layer $l$ to backpropagate through layer $l$. \n",
        "\n"
      ]
    },
    {
      "cell_type": "code",
      "metadata": {
        "collapsed": true,
        "id": "8VGDfRV4vreE"
      },
      "source": [
        "#  FUNCTION: L_model_backward\n",
        "\n",
        "def L_model_backward(Yhat, Y, caches):\n",
        "    \"\"\"\n",
        "    Implement the backward propagation for the [LINEAR->RELU] * (L-1) -> LINEAR -> SIGMOID group\n",
        "    \n",
        "    Arguments:\n",
        "    AL -- probability vector, output of the forward propagation (L_model_forward())\n",
        "    Y -- true \"label\" vector (containing 0 if non-cat, 1 if cat)\n",
        "    caches -- list of caches containing:\n",
        "                every cache of linear_activation_forward() with \"relu\" (it's caches[l], for l in range(L-1) i.e l = 0...L-2)\n",
        "                the cache of linear_activation_forward() with \"sigmoid\" (it's caches[L-1])\n",
        "    \n",
        "    Returns:\n",
        "    grads -- A dictionary with the gradients\n",
        "             grads[\"dA\" + str(l)] = ... \n",
        "             grads[\"dW\" + str(l)] = ...\n",
        "             grads[\"db\" + str(l)] = ... \n",
        "    \"\"\"\n",
        "    grads = {}\n",
        "    L = len(caches) # the number of layers\n",
        "    m = Yhat.shape[1]\n",
        "    Y = Y.reshape(Yhat.shape) # after this line, Y is the same shape as AL\n",
        "    \n",
        "    # Initializing the backpropagation\n",
        "    dAL = - (np.divide(Y, Yhat) - np.divide(1 - Y, 1 - Yhat)) # derivative of cost with respect to AL\n",
        "    \n",
        "    # Lth layer (SIGMOID -> LINEAR) gradients. Inputs: \"AL, Y, caches\". Outputs: \"grads[\"dAL\"], grads[\"dWL\"], grads[\"dbL\"]\n",
        "    current_cache = caches[L-1]\n",
        "    grads[\"dA\" + str(L)], grads[\"dW\" + str(L)], grads[\"db\" + str(L)] = linear_activation_backward(dAL, current_cache, activation = \"sigmoid\")\n",
        "    \n",
        "    for l in reversed(range(L-1)):\n",
        "        # lth layer: (RELU -> LINEAR) gradients.\n",
        "        # Inputs: \"grads[\"dA\" + str(l + 2)], caches\". Outputs: \"grads[\"dA\" + str(l + 1)] , grads[\"dW\" + str(l + 1)] , grads[\"db\" + str(l + 1)] \n",
        "        current_cache = caches[l]\n",
        "        dA_prev_temp, dW_temp, db_temp = linear_activation_backward(grads[\"dA\"+str(l+2)], current_cache, activation = \"relu\")\n",
        "        grads[\"dA\" + str(l + 1)] = dA_prev_temp\n",
        "        grads[\"dW\" + str(l + 1)] = dW_temp\n",
        "        grads[\"db\" + str(l + 1)] = db_temp\n",
        "\n",
        "    return grads"
      ],
      "execution_count": null,
      "outputs": []
    },
    {
      "cell_type": "code",
      "metadata": {
        "collapsed": true,
        "id": "5v4QHbYovreE"
      },
      "source": [
        "def L_model_backward_test_case():\n",
        "\n",
        "    np.random.seed(3)\n",
        "    AL = np.random.randn(1, 2)\n",
        "    Y = np.array([[1, 0]])\n",
        "\n",
        "    A1 = np.random.randn(4,2)\n",
        "    W1 = np.random.randn(3,4)\n",
        "    b1 = np.random.randn(3,1)\n",
        "    Z1 = np.random.randn(3,2)\n",
        "    linear_cache_activation_1 = ((A1, W1, b1), Z1)\n",
        "\n",
        "    A2 = np.random.randn(3,2)\n",
        "    W2 = np.random.randn(1,3)\n",
        "    b2 = np.random.randn(1,1)\n",
        "    Z2 = np.random.randn(1,2)\n",
        "    linear_cache_activation_2 = ((A2, W2, b2), Z2)\n",
        "\n",
        "    caches = (linear_cache_activation_1, linear_cache_activation_2)\n",
        "    \n",
        "    grads = L_model_backward(AL, Y, caches)\n",
        "    \n",
        "    np.testing.assert_array_almost_equal(grads[\"dW1\"], [[ 0.4101, 0.078072, 0.13798, 0.10502], [ 0., 0., 0., 0. ], [0.05284, 0.01006, 0.01778, 0.01353]] , decimal=5)\n",
        "    np.testing.assert_array_almost_equal(grads[\"db1\"], [[-0.22007], [ 0.], [-0.02835]], decimal=5)\n",
        "    np.testing.assert_array_almost_equal(grads[\"dA2\"], [[ 0.12913, -0.44014], [-0.14176,0.48317], [0.01664, -0.05671]], decimal=5)\n",
        "\n",
        "    return \"OK\""
      ],
      "execution_count": null,
      "outputs": []
    },
    {
      "cell_type": "code",
      "metadata": {
        "colab": {
          "base_uri": "https://localhost:8080/",
          "height": 35
        },
        "id": "_lulcQ16vreE",
        "outputId": "428ef311-e926-457c-c9c1-f1548402320f"
      },
      "source": [
        "L_model_backward_test_case()"
      ],
      "execution_count": null,
      "outputs": [
        {
          "output_type": "execute_result",
          "data": {
            "application/vnd.google.colaboratory.intrinsic+json": {
              "type": "string"
            },
            "text/plain": [
              "'OK'"
            ]
          },
          "metadata": {
            "tags": []
          },
          "execution_count": 40
        }
      ]
    },
    {
      "cell_type": "markdown",
      "metadata": {
        "id": "f9BPxi0jvreF"
      },
      "source": [
        "### 8.4 - Update Parameters\n",
        "\n",
        "In this section we will update the parameters of the model, using gradient descent: \n",
        "\n",
        "$$ W^{[l]} = W^{[l]} - \\alpha \\text{ } dW^{[l]} \\tag{16}$$\n",
        "$$ b^{[l]} = b^{[l]} - \\alpha \\text{ } db^{[l]} \\tag{17}$$\n",
        "\n",
        "where $\\alpha$ is the learning rate. After computing the updated parameters, we store them in the parameters dictionary. "
      ]
    },
    {
      "cell_type": "code",
      "metadata": {
        "collapsed": true,
        "id": "YJgxmmY4vreF"
      },
      "source": [
        "#  FUNCTION: update_parameters\n",
        "\n",
        "def update_parameters(parameters, grads, learning_rate):\n",
        "    \"\"\"\n",
        "    Update parameters using gradient descent\n",
        "    \n",
        "    Arguments:\n",
        "    parameters -- python dictionary containing your parameters \n",
        "    grads -- python dictionary containing your gradients, output of L_model_backward\n",
        "    \n",
        "    Returns:\n",
        "    parameters -- python dictionary containing your updated parameters \n",
        "                  parameters[\"W\" + str(l)] = ... \n",
        "                  parameters[\"b\" + str(l)] = ...\n",
        "    \"\"\"\n",
        "    \n",
        "    L = len(parameters) // 2 # number of layers in the neural network\n",
        "\n",
        "    # Update rule for each parameter. Use a for loop.\n",
        "    for l in range(L):\n",
        "        parameters[\"W\"+str(l+1)] = parameters[\"W\"+str(l+1)] - learning_rate * grads[\"dW\" + str(l+1)]\n",
        "        parameters[\"b\"+str(l+1)] = parameters[\"b\"+str(l+1)] - learning_rate * grads[\"db\" + str(l+1)]\n",
        "    return parameters"
      ],
      "execution_count": null,
      "outputs": []
    },
    {
      "cell_type": "code",
      "metadata": {
        "collapsed": true,
        "id": "kPSDsk9YvreF"
      },
      "source": [
        "def update_parameters_test_case():\n",
        "    np.random.seed(2)\n",
        "    W1 = np.random.randn(3,4)\n",
        "    b1 = np.random.randn(3,1)\n",
        "    W2 = np.random.randn(1,3)\n",
        "    b2 = np.random.randn(1,1)\n",
        "    parameters = {\"W1\": W1,\n",
        "                  \"b1\": b1,\n",
        "                  \"W2\": W2,\n",
        "                  \"b2\": b2}\n",
        "    np.random.seed(3)\n",
        "    dW1 = np.random.randn(3,4)\n",
        "    db1 = np.random.randn(3,1)\n",
        "    dW2 = np.random.randn(1,3)\n",
        "    db2 = np.random.randn(1,1)\n",
        "    grads = {\"dW1\": dW1,\n",
        "             \"db1\": db1,\n",
        "             \"dW2\": dW2,\n",
        "             \"db2\": db2}\n",
        "    \n",
        "    parameters = update_parameters(parameters, grads, 0.1)\n",
        "    \n",
        "    np.testing.assert_array_almost_equal(parameters[\"W1\"], [[-0.59562, -0.09992, -2.14585, 1.82662], [-1.7657, -0.80627, 0.51116, -1.18259,], [-1.05357,  -0.86129,  0.68284,  2.20375]] , decimal=5)\n",
        "    np.testing.assert_array_almost_equal(parameters[\"b1\"], [[-0.04659], [-1.28888], [ 0.53405]], decimal=5)\n",
        "    np.testing.assert_array_almost_equal(parameters[\"W2\"], [[-0.55569,  0.0354, 1.32964]], decimal=5)\n",
        "    np.testing.assert_array_almost_equal(parameters[\"b2\"], [[-0.8461]], decimal=5)\n",
        "    \n",
        "    return \"OK\""
      ],
      "execution_count": null,
      "outputs": []
    },
    {
      "cell_type": "code",
      "metadata": {
        "colab": {
          "base_uri": "https://localhost:8080/",
          "height": 35
        },
        "id": "rOTrt4YCvreG",
        "outputId": "2d1a6359-6e7c-42d6-bea3-961305109fee"
      },
      "source": [
        "update_parameters_test_case()"
      ],
      "execution_count": null,
      "outputs": [
        {
          "output_type": "execute_result",
          "data": {
            "application/vnd.google.colaboratory.intrinsic+json": {
              "type": "string"
            },
            "text/plain": [
              "'OK'"
            ]
          },
          "metadata": {
            "tags": []
          },
          "execution_count": 43
        }
      ]
    },
    {
      "cell_type": "markdown",
      "metadata": {
        "id": "wb5yPXTjvreG"
      },
      "source": [
        "## 9 - L-layer Neural Network\n",
        "\n",
        "Now we can put together all the functions to build an L-layer neural network with this structure:"
      ]
    },
    {
      "cell_type": "code",
      "metadata": {
        "colab": {
          "base_uri": "https://localhost:8080/"
        },
        "id": "WttBMVlSvreG",
        "outputId": "786daba3-abce-466e-f6ed-d115af58394f"
      },
      "source": [
        "nn_layers"
      ],
      "execution_count": null,
      "outputs": [
        {
          "output_type": "execute_result",
          "data": {
            "text/plain": [
              "[12288, 20, 7, 5, 1]"
            ]
          },
          "metadata": {
            "tags": []
          },
          "execution_count": 44
        }
      ]
    },
    {
      "cell_type": "code",
      "metadata": {
        "collapsed": true,
        "id": "C3wo6fAkvreH"
      },
      "source": [
        "#  FUNCTION: L_layer_model\n",
        "\n",
        "def L_layer_model(X, Y, layers_dims, learning_rate = 0.0076, num_iterations = 3000, print_cost=False):\n",
        "    \"\"\"\n",
        "    Implements a L-layer neural network: [LINEAR->RELU]*(L-1)->LINEAR->SIGMOID.\n",
        "    \n",
        "    Arguments:\n",
        "    X -- data, numpy array of shape (number of examples, num_px * num_px * 3)\n",
        "    Y -- true \"label\" vector (containing 0 if cat, 1 if non-cat), of shape (1, number of examples)\n",
        "    layers_dims -- list containing the input size and each layer size, of length (number of layers + 1).\n",
        "    learning_rate -- learning rate of the gradient descent update rule\n",
        "    num_iterations -- number of iterations of the optimization loop\n",
        "    print_cost -- if True, it prints the cost every 100 steps\n",
        "    \n",
        "    Returns:\n",
        "    parameters -- parameters learnt by the model. They can then be used to predict.\n",
        "    \"\"\"\n",
        "\n",
        "    costs = []                         # keep track of cost\n",
        "    \n",
        "    # Parameters initialization.\n",
        "    parameters = initialise_parameters(layers_dims)\n",
        "    \n",
        "    # Loop (gradient descent)\n",
        "    for i in range(0, num_iterations):\n",
        "\n",
        "        # Forward propagation: [LINEAR -> RELU]*(L-1) -> LINEAR -> SIGMOID.\n",
        "        AL, caches = L_model_forward(X, parameters)\n",
        "        \n",
        "        # Compute cost.\n",
        "        cost = compute_cost(AL, Y)\n",
        "    \n",
        "        # Backward propagation.\n",
        "        grads = L_model_backward(AL, Y, caches)\n",
        " \n",
        "        # Update parameters.\n",
        "        parameters = update_parameters(parameters, grads, learning_rate)\n",
        "                \n",
        "        # Print the cost every 100 training example\n",
        "        if print_cost and i % 100 == 0:\n",
        "            print (\"Cost after iteration %i: %f\" %(i, cost))\n",
        "        if print_cost and i % 100 == 0:\n",
        "            costs.append(cost)\n",
        "            \n",
        "    # plot the cost\n",
        "    plt.plot(np.squeeze(costs))\n",
        "    plt.ylabel('cost')\n",
        "    plt.xlabel('iterations (per tens)')\n",
        "    plt.title(\"Learning rate =\" + str(learning_rate))\n",
        "    plt.show()\n",
        "    \n",
        "    return parameters"
      ],
      "execution_count": null,
      "outputs": []
    },
    {
      "cell_type": "markdown",
      "metadata": {
        "id": "_QZPflGJvreH"
      },
      "source": [
        "You will now train the model as a 5-layer neural network.\n",
        "Run the cell below to train your model. The cost should decrease on every iteration. It may take up to 5 minutes to run 2500 iterations. If the cost is not decreasing, then you can click on the square (⬛) on the upper bar of the notebook to stop the cell and try to find your error."
      ]
    },
    {
      "cell_type": "code",
      "metadata": {
        "collapsed": true,
        "id": "glE6O3hUvreI"
      },
      "source": [
        "np.random.seed(1)"
      ],
      "execution_count": null,
      "outputs": []
    },
    {
      "cell_type": "code",
      "metadata": {
        "colab": {
          "base_uri": "https://localhost:8080/",
          "height": 720
        },
        "id": "F8QolohZvreI",
        "outputId": "14cc8a86-8683-4b02-9409-4205bf198ace"
      },
      "source": [
        "fit_params = L_layer_model(train_set_x, train_set_y, nn_layers, num_iterations = 2500, print_cost = True)"
      ],
      "execution_count": null,
      "outputs": [
        {
          "output_type": "stream",
          "text": [
            "Cost after iteration 0: 0.771749\n",
            "Cost after iteration 100: 0.671866\n",
            "Cost after iteration 200: 0.651173\n",
            "Cost after iteration 300: 0.620546\n",
            "Cost after iteration 400: 0.575133\n",
            "Cost after iteration 500: 0.509820\n",
            "Cost after iteration 600: 0.455846\n",
            "Cost after iteration 700: 0.415171\n",
            "Cost after iteration 800: 0.355023\n",
            "Cost after iteration 900: 0.352762\n",
            "Cost after iteration 1000: 0.270957\n",
            "Cost after iteration 1100: 0.223042\n",
            "Cost after iteration 1200: 0.192006\n",
            "Cost after iteration 1300: 0.163800\n",
            "Cost after iteration 1400: 0.143914\n",
            "Cost after iteration 1500: 0.128439\n",
            "Cost after iteration 1600: 0.115113\n",
            "Cost after iteration 1700: 0.104458\n",
            "Cost after iteration 1800: 0.095819\n",
            "Cost after iteration 1900: 0.090647\n",
            "Cost after iteration 2000: 0.084630\n",
            "Cost after iteration 2100: 0.075587\n",
            "Cost after iteration 2200: 0.070486\n",
            "Cost after iteration 2300: 0.068854\n",
            "Cost after iteration 2400: 0.063440\n"
          ],
          "name": "stdout"
        },
        {
          "output_type": "display_data",
          "data": {
            "image/png": "[encoded data removed]",
            "text/plain": [
              "<Figure size 288x288 with 1 Axes>"
            ]
          },
          "metadata": {
            "tags": [],
            "needs_background": "light"
          }
        }
      ]
    },
    {
      "cell_type": "markdown",
      "metadata": {
        "id": "tmGs1rpkvreI"
      },
      "source": [
        "## 10. Results analysis\n",
        "\n",
        "Now we can check the performance of the trained network by predicting the results of the test set and comparing them with the actual labels."
      ]
    },
    {
      "cell_type": "code",
      "metadata": {
        "collapsed": true,
        "id": "X2Hxhh7vvreJ"
      },
      "source": [
        "def predict(X, y, parameters):\n",
        "    \"\"\"\n",
        "    This function is used to predict the results of a  L-layer neural network.\n",
        "    \n",
        "    Arguments:\n",
        "    X -- data set of examples you would like to label\n",
        "    parameters -- parameters of the trained model\n",
        "    \n",
        "    Returns:\n",
        "    p -- predictions for the given dataset X\n",
        "    \"\"\"\n",
        "    \n",
        "    m = X.shape[1]\n",
        "    n = len(parameters) // 2 # number of layers in the neural network\n",
        "    p = np.zeros((1,m))\n",
        "    \n",
        "    # Forward propagation\n",
        "    probas, caches = L_model_forward(X, parameters)\n",
        "\n",
        "    \n",
        "    # convert probs to 0/1 predictions\n",
        "    for i in range(0, probas.shape[1]):\n",
        "        if probas[0,i] > 0.5:\n",
        "            p[0,i] = 1\n",
        "        else:\n",
        "            p[0,i] = 0\n",
        "    \n",
        "    # print results\n",
        "    print(\"Accuracy: \"  + str(np.sum((p == y)/m)))\n",
        "        \n",
        "    return p"
      ],
      "execution_count": null,
      "outputs": []
    },
    {
      "cell_type": "code",
      "metadata": {
        "colab": {
          "base_uri": "https://localhost:8080/"
        },
        "id": "RU8b5bmEvreJ",
        "outputId": "02d55646-e3af-44e6-f298-6880f86831ae"
      },
      "source": [
        "pred_train = predict(train_set_x, train_set_y, fit_params)"
      ],
      "execution_count": null,
      "outputs": [
        {
          "output_type": "stream",
          "text": [
            "Accuracy: 0.9952153110047844\n"
          ],
          "name": "stdout"
        }
      ]
    },
    {
      "cell_type": "code",
      "metadata": {
        "colab": {
          "base_uri": "https://localhost:8080/"
        },
        "id": "XmDBibecvreJ",
        "outputId": "980b1d90-d540-4905-bac8-c6dc1519a000"
      },
      "source": [
        "pred_test = predict(test_set_x, test_set_y, fit_params)"
      ],
      "execution_count": null,
      "outputs": [
        {
          "output_type": "stream",
          "text": [
            "Accuracy: 0.8200000000000001\n"
          ],
          "name": "stdout"
        }
      ]
    },
    {
      "cell_type": "markdown",
      "metadata": {
        "id": "vab7gcqAvreK"
      },
      "source": [
        "Congrats! It seems that this 5-layer neural network has **better performance (80%)** than the logistic regression model (72%) on the same test set. \n",
        "\n",
        "This is good performance for this task. \n",
        "\n",
        "Even higher accuracy could be obtained, by systematically searching for better hyperparameters (learning_rate, layers_dims, num_iterations) and other techniques such as regularisation, that we can see in the next notebook. "
      ]
    },
    {
      "cell_type": "markdown",
      "metadata": {
        "id": "20b_nKiqvreK"
      },
      "source": [
        "With logistic regression we had 14 misses in the test set, out of 50.  \n",
        "Let's check how many we have now and which ones are."
      ]
    },
    {
      "cell_type": "code",
      "metadata": {
        "colab": {
          "base_uri": "https://localhost:8080/",
          "height": 158
        },
        "id": "_SLwUo6DvreK",
        "outputId": "8fd2b87a-54ee-4188-fc32-c7aaaa1995d3"
      },
      "source": [
        "misses = print_mislabeled_images(classes, test_set_x, test_set_y, pred_test[0])"
      ],
      "execution_count": null,
      "outputs": [
        {
          "output_type": "display_data",
          "data": {
            "image/png": "[encoded data removed]",
            "text/plain": [
              "<Figure size 2880x2880 with 9 Axes>"
            ]
          },
          "metadata": {
            "tags": [],
            "needs_background": "light"
          }
        }
      ]
    },
    {
      "cell_type": "code",
      "metadata": {
        "colab": {
          "base_uri": "https://localhost:8080/"
        },
        "id": "NesEkhR0vreL",
        "outputId": "48825e33-0f8a-4766-c99e-c172a443344b"
      },
      "source": [
        "print(\"Number of misses: {0}\".format(misses))"
      ],
      "execution_count": null,
      "outputs": [
        {
          "output_type": "stream",
          "text": [
            "Number of misses: 9\n"
          ],
          "name": "stdout"
        }
      ]
    },
    {
      "cell_type": "markdown",
      "metadata": {
        "id": "bTnZUV35vrds"
      },
      "source": [
        "### 3.3 - Test with your own image \n",
        "\n",
        "You can use your own image and see the output of the model. To do that:\n",
        "1. Clone the repository.\n",
        "1. Click on \"File\" in the upper bar of this notebook, then click \"Open\".\n",
        "1. Add your image to the Jupyter Notebook's directory, in the \"images\" folder\n",
        "1. Change your image's name in the following code\n",
        "1. Run the code and check if the algorithm is right (1 = cat, 0 = non-cat)!"
      ]
    },
    {
      "cell_type": "code",
      "metadata": {
        "colab": {
          "base_uri": "https://localhost:8080/"
        },
        "id": "0JzTm328iGUg",
        "outputId": "2a65a63c-fb82-4704-9426-825e953f94e0"
      },
      "source": [
        "print('''Enter name of image file, that you want to predict whether it is cat or not cat..\n",
        "        format of filename example = cat.png  ''')\n",
        "\n",
        "image_filename = input(\"filename: \")"
      ],
      "execution_count": null,
      "outputs": [
        {
          "output_type": "stream",
          "text": [
            "Enter name of image file, that you want to predict whether it is cat or not cat..\n",
            "        format of filename example = cat.png  \n",
            "filename: cat.jpg\n"
          ],
          "name": "stdout"
        }
      ]
    },
    {
      "cell_type": "code",
      "metadata": {
        "colab": {
          "base_uri": "https://localhost:8080/"
        },
        "id": "LpshvSobvrdt",
        "outputId": "a6b2e831-c467-4fa2-bafc-bf48a6034de3"
      },
      "source": [
        "# We preprocess the image to fit the LR algorithm.\n",
        "from numpy import asarray\n",
        "from PIL import Image\n",
        "\n",
        "fname = '/content/drive/MyDrive/Colab Notebooks/' + str(image_filename)\n",
        "#image = np.array(scipy.ndimage.imread(cat.jpg, flatten=False))\n",
        "\n",
        "#im = np.array(Image.open(fname)) #you can pass multiple arguments in single line\n",
        "original_image = Image.open(fname)\n",
        "image = original_image.resize(size = (num_px,num_px),resample = 0)\n",
        "data = asarray(image)\n",
        "data = data.reshape(1,num_px*num_px*3).T\n",
        "print(data.shape)\n",
        "\n",
        "#my_image = scipy.imresize(im, size=(num_px,num_px)).reshape((1, num_px*num_px*3)).T\n"
      ],
      "execution_count": null,
      "outputs": [
        {
          "output_type": "stream",
          "text": [
            "(12288, 1)\n"
          ],
          "name": "stdout"
        }
      ]
    },
    {
      "cell_type": "code",
      "metadata": {
        "scrolled": false,
        "id": "6fM9qH79vreM",
        "colab": {
          "base_uri": "https://localhost:8080/",
          "height": 295
        },
        "outputId": "3e51cf07-2b6c-4ee5-a184-922485639a2e"
      },
      "source": [
        "my_predicted_image = predict(data, [1], fit_params)\n",
        "plt.rcParams['figure.figsize'] = (5.0, 5.0)\n",
        "plt.imshow(original_image)\n",
        "print(\"y = \" + str(np.squeeze(my_predicted_image)) + \", the algorithm predicts a \\\"\" + classes[int(np.squeeze(my_predicted_image)),].decode(\"utf-8\") +  \"\\\" picture.\")"
      ],
      "execution_count": null,
      "outputs": [
        {
          "output_type": "stream",
          "text": [
            "Accuracy: 1.0\n",
            "y = 1.0, the algorithm predicts a \"cat\" picture.\n"
          ],
          "name": "stdout"
        },
        {
          "output_type": "display_data",
          "data": {
            "image/png": "[encoded data removed]",
            "text/plain": [
              "<Figure size 360x360 with 1 Axes>"
            ]
          },
          "metadata": {
            "tags": [],
            "needs_background": "light"
          }
        }
      ]
    },
    {
      "cell_type": "markdown",
      "metadata": {
        "id": "rg8uDzF-vreM"
      },
      "source": [
        "Bibliography:\n",
        "- [Andrew Ng's deep learning course](https://www.deeplearning.ai/)\n",
        "- [Tutorial: implement a neural network from scratch](http://www.wildml.com/2015/09/implementing-a-neural-network-from-scratch/)\n",
        "- [Image normalisation](https://stats.stackexchange.com/questions/211436/why-do-we-normalize-images-by-subtracting-the-datasets-image-mean-and-not-the-c)"
      ]
    }
  ]
}